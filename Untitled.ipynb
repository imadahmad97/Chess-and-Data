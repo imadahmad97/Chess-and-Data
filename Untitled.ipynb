{
 "cells": [
  {
   "cell_type": "code",
   "execution_count": 4,
   "id": "411946e8-bacc-442a-9f3e-58b1f297449e",
   "metadata": {},
   "outputs": [],
   "source": [
    "import pandas as pd"
   ]
  },
  {
   "cell_type": "code",
   "execution_count": 5,
   "id": "7867f6fc-0172-43b9-9aff-e1830754c96b",
   "metadata": {},
   "outputs": [],
   "source": [
    "raw = pd.read_csv(\"won_lost_draw.csv\")"
   ]
  },
  {
   "cell_type": "code",
   "execution_count": 7,
   "id": "bb232241-8c9d-42c4-930e-470763adf8e7",
   "metadata": {},
   "outputs": [
    {
     "data": {
      "text/plain": [
       "Index(['Unnamed: 0.1', 'Unnamed: 0', 'game_id', 'game_order', 'event', 'site',\n",
       "       'date_played', 'round', 'white', 'black', 'result', 'white_elo',\n",
       "       'white_rating_diff', 'black_elo', 'black_rating_diff', 'white_title',\n",
       "       'black_title', 'winner', 'winner_elo', 'loser', 'loser_elo',\n",
       "       'winner_loser_elo_diff', 'eco', 'termination', 'time_control',\n",
       "       'utc_date', 'utc_time', 'variant', 'ply_count', 'date_created',\n",
       "       'file_name'],\n",
       "      dtype='object')"
      ]
     },
     "execution_count": 7,
     "metadata": {},
     "output_type": "execute_result"
    }
   ],
   "source": [
    "raw.columns"
   ]
  },
  {
   "cell_type": "code",
   "execution_count": null,
   "id": "39375a61-9a4f-4ac1-815f-84e63f2bab70",
   "metadata": {},
   "outputs": [],
   "source": [
    "raw['Rating']"
   ]
  }
 ],
 "metadata": {
  "kernelspec": {
   "display_name": "Python 3 (ipykernel)",
   "language": "python",
   "name": "python3"
  },
  "language_info": {
   "codemirror_mode": {
    "name": "ipython",
    "version": 3
   },
   "file_extension": ".py",
   "mimetype": "text/x-python",
   "name": "python",
   "nbconvert_exporter": "python",
   "pygments_lexer": "ipython3",
   "version": "3.9.12"
  }
 },
 "nbformat": 4,
 "nbformat_minor": 5
}
